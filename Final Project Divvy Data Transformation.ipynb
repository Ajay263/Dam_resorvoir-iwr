{
 "cells": [
  {
   "cell_type": "code",
   "execution_count": 1,
   "id": "78cefef0",
   "metadata": {},
   "outputs": [],
   "source": [
    "import pandas as pd\n",
    "from pyspark.sql import types\n",
    "from pyspark.sql import SparkSession"
   ]
  },
  {
   "cell_type": "code",
   "execution_count": 2,
   "id": "b3b0406e",
   "metadata": {},
   "outputs": [
    {
     "name": "stderr",
     "output_type": "stream",
     "text": [
      "22/03/05 20:03:27 WARN Utils: Your hostname, gary-demo resolves to a loopback address: 127.0.1.1; using 192.168.53.137 instead (on interface ens33)\n",
      "22/03/05 20:03:27 WARN Utils: Set SPARK_LOCAL_IP if you need to bind to another address\n",
      "WARNING: An illegal reflective access operation has occurred\n",
      "WARNING: Illegal reflective access by org.apache.spark.unsafe.Platform (file:/home/gary/spark/spark-3.0.3-bin-hadoop3.2/jars/spark-unsafe_2.12-3.0.3.jar) to constructor java.nio.DirectByteBuffer(long,int)\n",
      "WARNING: Please consider reporting this to the maintainers of org.apache.spark.unsafe.Platform\n",
      "WARNING: Use --illegal-access=warn to enable warnings of further illegal reflective access operations\n",
      "WARNING: All illegal access operations will be denied in a future release\n",
      "22/03/05 20:03:28 WARN NativeCodeLoader: Unable to load native-hadoop library for your platform... using builtin-java classes where applicable\n",
      "Using Spark's default log4j profile: org/apache/spark/log4j-defaults.properties\n",
      "Setting default log level to \"WARN\".\n",
      "To adjust logging level use sc.setLogLevel(newLevel). For SparkR, use setLogLevel(newLevel).\n"
     ]
    }
   ],
   "source": [
    "spark = SparkSession.builder \\\n",
    "    .master(\"local[*]\") \\\n",
    "    .appName('test') \\\n",
    "    .getOrCreate()"
   ]
  },
  {
   "cell_type": "code",
   "execution_count": 3,
   "id": "c6d906ce",
   "metadata": {},
   "outputs": [
    {
     "name": "stdout",
     "output_type": "stream",
     "text": [
      "202004-divvy-tripdata.csv\t\traw_taxi+_zone_lookup.parquet\r\n",
      "202004-divvy-tripdata.zip\t\trun_docker_db\r\n",
      "code_1.63.2-1639562499_amd64.deb\tUntitled.ipynb\r\n",
      "dazzling-pier-338723-010edd3b54d2.json\r\n"
     ]
    }
   ],
   "source": [
    "!ls"
   ]
  },
  {
   "cell_type": "code",
   "execution_count": 7,
   "id": "e97bda26",
   "metadata": {},
   "outputs": [],
   "source": [
    "df = pd.read_csv('202004-divvy-tripdata.csv', nrows = 100)"
   ]
  },
  {
   "cell_type": "code",
   "execution_count": 12,
   "id": "99abe570",
   "metadata": {},
   "outputs": [],
   "source": [
    "raw_schema = spark.createDataFrame(df).schema"
   ]
  },
  {
   "cell_type": "code",
   "execution_count": 16,
   "id": "d580986c",
   "metadata": {},
   "outputs": [],
   "source": [
    "import re\n",
    " \n",
    "import re\n",
    "def make_schema(raw):\n",
    "    raw = str(raw)\n",
    "    fields = []\n",
    "   \n",
    "    for i in zip([i.start() for i in re.finditer(\"\\(\",raw)][2:],[i.start() for i in re.finditer(\"\\)\",raw)][:-2]):\n",
    "        fields.append(raw[i[0]+1:i[1]])\n",
    " \n",
    "    schema = \"types.StructType[\\n\"\n",
    "    for f in fields:\n",
    "        n = f.split(\",\")\n",
    "        #If a column name has datetime in it. Make it a time stamp\n",
    "        if '_at' in n[0]:\n",
    "            n[1] = 'TimestampType'\n",
    "        schema = schema+\"\\ttypes.StructField(\\\"\"+n[0]+\"\\\", types.\"+n[1]+\"(), \"+n[2].capitalize()+\"),\\n\"\n",
    "    schema = schema +\"])\"\n",
    "    print(schema)"
   ]
  },
  {
   "cell_type": "code",
   "execution_count": 17,
   "id": "98311e97",
   "metadata": {},
   "outputs": [
    {
     "name": "stdout",
     "output_type": "stream",
     "text": [
      "types.StructType[\n",
      "\ttypes.StructField(\"ride_id\", types.StringType(), True),\n",
      "\ttypes.StructField(\"rideable_type\", types.StringType(), True),\n",
      "\ttypes.StructField(\"started_at\", types.TimestampType(), True),\n",
      "\ttypes.StructField(\"ended_at\", types.TimestampType(), True),\n",
      "\ttypes.StructField(\"start_station_name\", types.StringType(), True),\n",
      "\ttypes.StructField(\"start_station_id\", types.LongType(), True),\n",
      "\ttypes.StructField(\"end_station_name\", types.StringType(), True),\n",
      "\ttypes.StructField(\"end_station_id\", types.LongType(), True),\n",
      "\ttypes.StructField(\"start_lat\", types.DoubleType(), True),\n",
      "\ttypes.StructField(\"start_lng\", types.DoubleType(), True),\n",
      "\ttypes.StructField(\"end_lat\", types.DoubleType(), True),\n",
      "\ttypes.StructField(\"end_lng\", types.DoubleType(), True),\n",
      "\ttypes.StructField(\"member_casual\", types.StringType(), True),\n",
      "])\n"
     ]
    }
   ],
   "source": [
    "make_schema(raw_schema)"
   ]
  },
  {
   "cell_type": "code",
   "execution_count": 19,
   "id": "1cf6867e",
   "metadata": {},
   "outputs": [],
   "source": [
    "divvy_schema = types.StructType([\n",
    "\ttypes.StructField(\"ride_id\", types.StringType(), True),\n",
    "\ttypes.StructField(\"rideable_type\", types.StringType(), True),\n",
    "\ttypes.StructField(\"started_at\", types.TimestampType(), True),\n",
    "\ttypes.StructField(\"ended_at\", types.TimestampType(), True),\n",
    "\ttypes.StructField(\"start_station_name\", types.StringType(), True),\n",
    "\ttypes.StructField(\"start_station_id\", types.LongType(), True),\n",
    "\ttypes.StructField(\"end_station_name\", types.StringType(), True),\n",
    "\ttypes.StructField(\"end_station_id\", types.LongType(), True),\n",
    "\ttypes.StructField(\"start_lat\", types.DoubleType(), True),\n",
    "\ttypes.StructField(\"start_lng\", types.DoubleType(), True),\n",
    "\ttypes.StructField(\"end_lat\", types.DoubleType(), True),\n",
    "\ttypes.StructField(\"end_lng\", types.DoubleType(), True),\n",
    "\ttypes.StructField(\"member_casual\", types.StringType(), True)\n",
    "])"
   ]
  },
  {
   "cell_type": "code",
   "execution_count": 20,
   "id": "edf29394",
   "metadata": {},
   "outputs": [],
   "source": [
    "df_divvy = spark.read \\\n",
    "    .option(\"header\", \"true\") \\\n",
    "    .schema(divvy_schema) \\\n",
    "    .csv('202004-divvy-tripdata.csv')"
   ]
  },
  {
   "cell_type": "code",
   "execution_count": 22,
   "id": "a94bfcf0",
   "metadata": {},
   "outputs": [
    {
     "name": "stderr",
     "output_type": "stream",
     "text": [
      "                                                                                \r"
     ]
    }
   ],
   "source": [
    "df_divvy \\\n",
    "    .repartition(4) \\\n",
    "    .write.parquet('divvy/parquet/')"
   ]
  },
  {
   "cell_type": "code",
   "execution_count": null,
   "id": "42335319",
   "metadata": {},
   "outputs": [],
   "source": []
  }
 ],
 "metadata": {
  "kernelspec": {
   "display_name": "Python 3 (ipykernel)",
   "language": "python",
   "name": "python3"
  },
  "language_info": {
   "codemirror_mode": {
    "name": "ipython",
    "version": 3
   },
   "file_extension": ".py",
   "mimetype": "text/x-python",
   "name": "python",
   "nbconvert_exporter": "python",
   "pygments_lexer": "ipython3",
   "version": "3.8.10"
  }
 },
 "nbformat": 4,
 "nbformat_minor": 5
}
